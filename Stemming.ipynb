{
 "cells": [
  {
   "cell_type": "markdown",
   "id": "e0c424de",
   "metadata": {},
   "source": [
    "## Porter Stemmer"
   ]
  },
  {
   "cell_type": "code",
   "execution_count": 1,
   "id": "8ab71b6a",
   "metadata": {},
   "outputs": [],
   "source": [
    "import nltk\n",
    "from nltk import PorterStemmer"
   ]
  },
  {
   "cell_type": "code",
   "execution_count": 2,
   "id": "6ce3b2cd",
   "metadata": {},
   "outputs": [
    {
     "name": "stdout",
     "output_type": "stream",
     "text": [
      "provis maximum owe care on go gone go wa thi\n"
     ]
    }
   ],
   "source": [
    "ps = PorterStemmer()\n",
    "sentence = 'Provision Maximum owed caring on go gone going was this'\n",
    "wordlist = nltk.word_tokenize(sentence)\n",
    "stemwords = [ps.stem(word) for word in wordlist]\n",
    "print(' '.join(stemwords))"
   ]
  },
  {
   "cell_type": "code",
   "execution_count": 3,
   "id": "9516684e",
   "metadata": {},
   "outputs": [],
   "source": [
    "paragraph = \"\"\"I have three visions for India. In 3000 years of our history, people from all over \n",
    "               the world have come and invaded us, captured our lands, conquered our minds. \n",
    "               From Alexander onwards, the Greeks, the Turks, the Moguls, the Portuguese, the British,\n",
    "               the French, the Dutch, all of them came and looted us, took over what was ours. \n",
    "               Yet we have not done this to any other nation. We have not conquered anyone. \n",
    "               We have not grabbed their land, their culture, \n",
    "               their history and tried to enforce our way of life on them. \n",
    "               Why? Because we respect the freedom of others.That is why my \n",
    "               first vision is that of freedom. I believe that India got its first vision of \n",
    "               this in 1857, when we started the War of Independence. It is this freedom that\n",
    "               we must protect and nurture and build on. If we are not free, no one will respect us.\n",
    "               My second vision for India’s development. For fifty years we have been a developing nation.\n",
    "               It is time we see ourselves as a developed nation. We are among the top 5 nations of the world\n",
    "               in terms of GDP. We have a 10 percent growth rate in most areas. Our poverty levels are falling.\n",
    "               Our achievements are being globally recognised today. Yet we lack the self-confidence to\n",
    "               see ourselves as a developed nation, self-reliant and self-assured. Isn’t this incorrect?\n",
    "               I have a third vision. India must stand up to the world. Because I believe that unless India \n",
    "               stands up to the world, no one will respect us. Only strength respects strength. We must be \n",
    "               strong not only as a military power but also as an economic power. Both must go hand-in-hand. \n",
    "               My good fortune was to have worked with three great minds. Dr. Vikram Sarabhai of the Dept. of \n",
    "               space, Professor Satish Dhawan, who succeeded him and Dr. Brahm Prakash, father of nuclear material.\n",
    "               I was lucky to have worked with all three of them closely and consider this the great opportunity of my life. \n",
    "               I see four milestones in my career\"\"\""
   ]
  },
  {
   "cell_type": "code",
   "execution_count": 4,
   "id": "7f36f047",
   "metadata": {},
   "outputs": [],
   "source": [
    "from nltk.corpus import stopwords"
   ]
  },
  {
   "cell_type": "code",
   "execution_count": 5,
   "id": "c5cc6db8",
   "metadata": {},
   "outputs": [],
   "source": [
    "sentences = nltk.sent_tokenize(paragraph)"
   ]
  },
  {
   "cell_type": "code",
   "execution_count": 6,
   "id": "86d08385",
   "metadata": {},
   "outputs": [
    {
     "name": "stdout",
     "output_type": "stream",
     "text": [
      "i three vision india .\n",
      "in 3000 year histori , peopl world come invad us , captur land , conquer mind .\n",
      "from alexand onward , greek , turk , mogul , portugues , british , french , dutch , came loot us , took .\n",
      "yet done nation .\n",
      "we conquer anyon .\n",
      "we grab land , cultur , histori tri enforc way life .\n",
      "whi ?\n",
      "becaus respect freedom others.that first vision freedom .\n",
      "i believ india got first vision 1857 , start war independ .\n",
      "it freedom must protect nurtur build .\n",
      "if free , one respect us .\n",
      "my second vision india ’ develop .\n",
      "for fifti year develop nation .\n",
      "it time see develop nation .\n",
      "we among top 5 nation world term gdp .\n",
      "we 10 percent growth rate area .\n",
      "our poverti level fall .\n",
      "our achiev global recognis today .\n",
      "yet lack self-confid see develop nation , self-reli self-assur .\n",
      "isn ’ incorrect ?\n",
      "i third vision .\n",
      "india must stand world .\n",
      "becaus i believ unless india stand world , one respect us .\n",
      "onli strength respect strength .\n",
      "we must strong militari power also econom power .\n",
      "both must go hand-in-hand .\n",
      "my good fortun work three great mind .\n",
      "dr. vikram sarabhai dept .\n",
      "space , professor satish dhawan , succeed dr. brahm prakash , father nuclear materi .\n",
      "i lucki work three close consid great opportun life .\n",
      "i see four mileston career\n"
     ]
    }
   ],
   "source": [
    "for i in range(len(sentences)):\n",
    "    words = nltk.word_tokenize(sentences[i])\n",
    "    wordslist = [ps.stem(word) for word in words if word not in set(stopwords.words('english'))]\n",
    "    print(\" \".join(wordslist))"
   ]
  },
  {
   "cell_type": "markdown",
   "id": "742936fb",
   "metadata": {},
   "source": [
    "## Snowball Stemmer"
   ]
  },
  {
   "cell_type": "code",
   "execution_count": 7,
   "id": "43d6fcd4",
   "metadata": {},
   "outputs": [],
   "source": [
    "from nltk import SnowballStemmer"
   ]
  },
  {
   "cell_type": "code",
   "execution_count": 8,
   "id": "8d4f18bb",
   "metadata": {},
   "outputs": [
    {
     "name": "stdout",
     "output_type": "stream",
     "text": [
      "provis maximum owe care on go gone go was this\n"
     ]
    }
   ],
   "source": [
    "ss = SnowballStemmer('english')\n",
    "sentence = 'Provision Maximum owed caring on go gone going was this'\n",
    "wordlist = nltk.word_tokenize(sentence)\n",
    "stemwords_1 = [ss.stem(word) for word in wordlist]\n",
    "print(\" \".join(stemwords_1))"
   ]
  },
  {
   "cell_type": "markdown",
   "id": "2c75f2d1",
   "metadata": {},
   "source": [
    "## Lancaster Stemmmer"
   ]
  },
  {
   "cell_type": "code",
   "execution_count": 9,
   "id": "93d0f09f",
   "metadata": {},
   "outputs": [],
   "source": [
    "from nltk import LancasterStemmer"
   ]
  },
  {
   "cell_type": "code",
   "execution_count": 10,
   "id": "55ec614d",
   "metadata": {},
   "outputs": [
    {
     "name": "stdout",
     "output_type": "stream",
     "text": [
      "provid maxim ow car on go gon going was thi\n"
     ]
    }
   ],
   "source": [
    "ls = LancasterStemmer()\n",
    "sentence = 'Provision Maximum owed caring on go gone going was this'\n",
    "wordlist = nltk.word_tokenize(sentence)\n",
    "stemwords_2 = [ls.stem(word) for word in wordlist]\n",
    "print(\" \".join(stemwords_2))"
   ]
  }
 ],
 "metadata": {
  "kernelspec": {
   "display_name": "Python 3",
   "language": "python",
   "name": "python3"
  },
  "language_info": {
   "codemirror_mode": {
    "name": "ipython",
    "version": 3
   },
   "file_extension": ".py",
   "mimetype": "text/x-python",
   "name": "python",
   "nbconvert_exporter": "python",
   "pygments_lexer": "ipython3",
   "version": "3.8.8"
  }
 },
 "nbformat": 4,
 "nbformat_minor": 5
}
